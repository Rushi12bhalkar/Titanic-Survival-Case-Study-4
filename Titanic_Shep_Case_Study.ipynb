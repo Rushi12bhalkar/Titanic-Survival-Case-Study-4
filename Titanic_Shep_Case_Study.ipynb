{
  "nbformat": 4,
  "nbformat_minor": 0,
  "metadata": {
    "colab": {
      "name": "Titanic Shep Case Study",
      "provenance": [],
      "authorship_tag": "ABX9TyMCTgQ3ibRvYz3S0tNBki+1",
      "include_colab_link": true
    },
    "kernelspec": {
      "name": "python3",
      "display_name": "Python 3"
    },
    "language_info": {
      "name": "python"
    }
  },
  "cells": [
    {
      "cell_type": "markdown",
      "metadata": {
        "id": "view-in-github",
        "colab_type": "text"
      },
      "source": [
        "<a href=\"https://colab.research.google.com/github/Rushi12bhalkar/Titanic-Survival-Case-Study-4/blob/main/Titanic_Shep_Case_Study.ipynb\" target=\"_parent\"><img src=\"https://colab.research.google.com/assets/colab-badge.svg\" alt=\"Open In Colab\"/></a>"
      ]
    },
    {
      "cell_type": "code",
      "execution_count": null,
      "metadata": {
        "colab": {
          "base_uri": "https://localhost:8080/"
        },
        "id": "GwFuVxrswEHI",
        "outputId": "8e3ab02a-fb64-4d3b-a178-b6bd87574c14"
      },
      "outputs": [
        {
          "output_type": "stream",
          "name": "stdout",
          "text": [
            "(418, 12)\n",
            "   PassengerId  Survived  Pclass  ...     Fare Cabin  Embarked\n",
            "0          892         0       3  ...   7.8292   NaN         Q\n",
            "1          893         1       3  ...   7.0000   NaN         S\n",
            "2          894         0       2  ...   9.6875   NaN         Q\n",
            "3          895         0       3  ...   8.6625   NaN         S\n",
            "4          896         1       3  ...  12.2875   NaN         S\n",
            "5          897         0       3  ...   9.2250   NaN         S\n",
            "6          898         1       3  ...   7.6292   NaN         Q\n",
            "7          899         0       2  ...  29.0000   NaN         S\n",
            "8          900         1       3  ...   7.2292   NaN         C\n",
            "9          901         0       3  ...  24.1500   NaN         S\n",
            "\n",
            "[10 rows x 12 columns]\n",
            "     PassengerId  Survived  Pclass  ...      Fare Cabin  Embarked\n",
            "408         1300         1       3  ...    7.7208   NaN         Q\n",
            "409         1301         1       3  ...   13.7750   NaN         S\n",
            "410         1302         1       3  ...    7.7500   NaN         Q\n",
            "411         1303         1       1  ...   90.0000   C78         Q\n",
            "412         1304         1       3  ...    7.7750   NaN         S\n",
            "413         1305         0       3  ...    8.0500   NaN         S\n",
            "414         1306         1       1  ...  108.9000  C105         C\n",
            "415         1307         0       3  ...    7.2500   NaN         S\n",
            "416         1308         0       3  ...    8.0500   NaN         S\n",
            "417         1309         0       3  ...   22.3583   NaN         C\n",
            "\n",
            "[10 rows x 12 columns]\n",
            "<class 'pandas.core.frame.DataFrame'>\n",
            "RangeIndex: 418 entries, 0 to 417\n",
            "Data columns (total 12 columns):\n",
            " #   Column       Non-Null Count  Dtype  \n",
            "---  ------       --------------  -----  \n",
            " 0   PassengerId  418 non-null    int64  \n",
            " 1   Survived     418 non-null    int64  \n",
            " 2   Pclass       418 non-null    int64  \n",
            " 3   Name         418 non-null    object \n",
            " 4   Sex          418 non-null    object \n",
            " 5   Age          332 non-null    float64\n",
            " 6   SibSp        418 non-null    int64  \n",
            " 7   Parch        418 non-null    int64  \n",
            " 8   Ticket       418 non-null    object \n",
            " 9   Fare         417 non-null    float64\n",
            " 10  Cabin        91 non-null     object \n",
            " 11  Embarked     418 non-null    object \n",
            "dtypes: float64(2), int64(5), object(5)\n",
            "memory usage: 39.3+ KB\n",
            "None\n",
            "PassengerId      int64\n",
            "Survived         int64\n",
            "Pclass           int64\n",
            "Name            object\n",
            "Sex             object\n",
            "Age            float64\n",
            "SibSp            int64\n",
            "Parch            int64\n",
            "Ticket          object\n",
            "Fare           float64\n",
            "Cabin           object\n",
            "Embarked        object\n",
            "dtype: object\n"
          ]
        }
      ],
      "source": [
        "# Case Study 4: - Titanic Ship  \n",
        "\n",
        "import numpy as np\n",
        "import pandas as pd \n",
        "import matplotlib.pyplot as plt\n",
        "import seaborn as sns\n",
        "\n",
        "ds = pd.read_csv(r'/content/tested.csv')\n",
        "\n",
        "# Basic information on dataset\n",
        "\n",
        "print(ds.shape)\n",
        "print(ds.head(10))\n",
        "print(ds.tail(10))\n",
        "print(ds.info())\n",
        "print(ds.dtypes)\n"
      ]
    },
    {
      "cell_type": "code",
      "source": [
        "# statistical information\n",
        "\n",
        "print(ds.describe())\n",
        "\n",
        "# find missing values\n",
        "\n",
        "print(ds.isnull().sum())\n",
        "\n",
        "# count the occurance of\n",
        " \n",
        "print(ds['Sex'].value_counts())\n",
        "print(ds['Survived'].value_counts())\n",
        "print(ds['Pclass'].value_counts())\n",
        "print(ds['Embarked'].value_counts())\n"
      ],
      "metadata": {
        "colab": {
          "base_uri": "https://localhost:8080/"
        },
        "id": "lNJ8RWGpwxtR",
        "outputId": "ed5686f4-b1bd-4ac4-9ed1-f0cfe4b1421c"
      },
      "execution_count": null,
      "outputs": [
        {
          "output_type": "stream",
          "name": "stdout",
          "text": [
            "       PassengerId    Survived      Pclass  ...       SibSp       Parch        Fare\n",
            "count   418.000000  418.000000  418.000000  ...  418.000000  418.000000  417.000000\n",
            "mean   1100.500000    0.363636    2.265550  ...    0.447368    0.392344   35.627188\n",
            "std     120.810458    0.481622    0.841838  ...    0.896760    0.981429   55.907576\n",
            "min     892.000000    0.000000    1.000000  ...    0.000000    0.000000    0.000000\n",
            "25%     996.250000    0.000000    1.000000  ...    0.000000    0.000000    7.895800\n",
            "50%    1100.500000    0.000000    3.000000  ...    0.000000    0.000000   14.454200\n",
            "75%    1204.750000    1.000000    3.000000  ...    1.000000    0.000000   31.500000\n",
            "max    1309.000000    1.000000    3.000000  ...    8.000000    9.000000  512.329200\n",
            "\n",
            "[8 rows x 7 columns]\n",
            "PassengerId      0\n",
            "Survived         0\n",
            "Pclass           0\n",
            "Name             0\n",
            "Sex              0\n",
            "Age             86\n",
            "SibSp            0\n",
            "Parch            0\n",
            "Ticket           0\n",
            "Fare             1\n",
            "Cabin          327\n",
            "Embarked         0\n",
            "dtype: int64\n",
            "male      266\n",
            "female    152\n",
            "Name: Sex, dtype: int64\n",
            "0    266\n",
            "1    152\n",
            "Name: Survived, dtype: int64\n",
            "3    218\n",
            "1    107\n",
            "2     93\n",
            "Name: Pclass, dtype: int64\n",
            "S    270\n",
            "C    102\n",
            "Q     46\n",
            "Name: Embarked, dtype: int64\n"
          ]
        }
      ]
    },
    {
      "cell_type": "code",
      "source": [
        "# distribution analysis\n",
        "\n",
        "gender_data=ds['Sex'].value_counts()\n",
        "survived_data=ds['Survived'].value_counts()\n",
        "pclass_data=ds['Pclass'].value_counts()\n",
        "embarked_data=ds['Embarked'].value_counts()\n",
        "\n",
        "\n",
        "gender_label=['Male','Female']\n",
        "survived_label=['Survived','Died']\n",
        "pclass_label=['C1','C2','C3']\n",
        "embarked_label=['S','C','Q']\n",
        "\n",
        "plt.figure(figsize=(10,5),facecolor='mediumseagreen')\n",
        "\n",
        "plt.suptitle('Distibution analysis on Titanic Data')\n",
        "plt.subplot(2,2,1)\n",
        "plt.grid(True)\n",
        "plt.bar(gender_label,gender_data)\n",
        "\n",
        "plt.subplot(2,2,2)\n",
        "plt.grid(True)\n",
        "plt.bar(survived_label,survived_data,color='red')\n",
        "\n",
        "plt.subplot(2,2,3)\n",
        "plt.grid(True)\n",
        "plt.bar(pclass_label,pclass_data,color='green')\n",
        "\n",
        "plt.subplot(2,2,4)\n",
        "plt.grid(True)\n",
        "plt.bar(embarked_label,embarked_data,color='Magenta')\n"
      ],
      "metadata": {
        "colab": {
          "base_uri": "https://localhost:8080/",
          "height": 374
        },
        "id": "CvO5n356xSu3",
        "outputId": "afb41322-55bc-465b-f446-303f20a55cd8"
      },
      "execution_count": null,
      "outputs": [
        {
          "output_type": "execute_result",
          "data": {
            "text/plain": [
              "<BarContainer object of 3 artists>"
            ]
          },
          "metadata": {},
          "execution_count": 4
        },
        {
          "output_type": "display_data",
          "data": {
            "image/png": "[encoded data removed]",
            "text/plain": [
              "<Figure size 720x360 with 4 Axes>"
            ]
          },
          "metadata": {}
        }
      ]
    },
    {
      "cell_type": "code",
      "source": [
        "plt.figure(figsize=(10,5),facecolor='turquoise')  \n",
        "plt.suptitle('Boxplot Sex vs Age')  \n",
        "sns.boxplot(x='Sex',y='Age',data=ds)    \n",
        "\n",
        "plt.figure(figsize=(10,5),facecolor='rebeccapurple')   \n",
        "ds['Age_Range'] = pd.cut(ds.Age, [0, 10, 20, 30, 40, 50, 60, 70, 80])\n",
        "sns.set_style('whitegrid')\n",
        "sns.countplot(x = \"Age_Range\", hue = \"Survived\", \\\n",
        "              data = ds, palette=[\"C1\", \"C0\"]).\\\n",
        "              legend(labels = [\"Deceased\", \"Survived\"])\n",
        "\n",
        "plt.figure(figsize=(10,5),facecolor='pink')\n",
        "sns.distplot(ds['Age'].dropna(),color='darkgreen',bins=30)\n",
        "\n",
        "p = sns.countplot(x = \"Embarked\", hue = \"Survived\", data = ds, palette=[\"C1\", \"C0\"])\n",
        "p.set_xticklabels([\"Southampton\",\"Cherbourg\",\"Queenstown\"])\n",
        "p.legend(labels = [\"Deceased\", \"Survived\"])\n",
        "p.set_title(\"Survival based on embarking point.\")\n"
      ],
      "metadata": {
        "colab": {
          "base_uri": "https://localhost:8080/",
          "height": 1000
        },
        "id": "k4M5vybqxykY",
        "outputId": "7ab82ce4-3d02-4b75-f89b-2b2fc6fdf222"
      },
      "execution_count": null,
      "outputs": [
        {
          "output_type": "stream",
          "name": "stderr",
          "text": [
            "/usr/local/lib/python3.7/dist-packages/seaborn/distributions.py:2619: FutureWarning: `distplot` is a deprecated function and will be removed in a future version. Please adapt your code to use either `displot` (a figure-level function with similar flexibility) or `histplot` (an axes-level function for histograms).\n",
            "  warnings.warn(msg, FutureWarning)\n"
          ]
        },
        {
          "output_type": "execute_result",
          "data": {
            "text/plain": [
              "Text(0.5, 1.0, 'Survival based on embarking point.')"
            ]
          },
          "metadata": {},
          "execution_count": 8
        },
        {
          "output_type": "display_data",
          "data": {
            "image/png": "[encoded data removed]",
            "text/plain": [
              "<Figure size 720x360 with 1 Axes>"
            ]
          },
          "metadata": {}
        },
        {
          "output_type": "display_data",
          "data": {
            "image/png": "[encoded data removed]",
            "text/plain": [
              "<Figure size 720x360 with 1 Axes>"
            ]
          },
          "metadata": {}
        },
        {
          "output_type": "display_data",
          "data": {
            "image/png": "[encoded data removed]",
            "text/plain": [
              "<Figure size 720x360 with 1 Axes>"
            ]
          },
          "metadata": {}
        }
      ]
    },
    {
      "cell_type": "code",
      "source": [
        "# Case Study 4 : Titanic Passenger Survival\n",
        "# predictive analysis starts\n",
        "\n",
        "import numpy as np \n",
        "import pandas as pd \n",
        "import matplotlib.pyplot as plt \n",
        "import seaborn as sns \n",
        "\n",
        "from sklearn.model_selection import train_test_split\n",
        "from sklearn.linear_model import LogisticRegression\n",
        "from sklearn.tree import DecisionTreeClassifier\n",
        "from sklearn.metrics import accuracy_score\n",
        "\n",
        "ds = pd.read_csv(r'/content/tested.csv')\n",
        "# find missing values in dataset\n",
        "print(ds.isnull().sum())\n"
      ],
      "metadata": {
        "colab": {
          "base_uri": "https://localhost:8080/"
        },
        "id": "-ZAf4_6Wy2tg",
        "outputId": "55f91a4e-3388-4e9b-d5db-4da727e0cbe8"
      },
      "execution_count": null,
      "outputs": [
        {
          "output_type": "stream",
          "name": "stdout",
          "text": [
            "PassengerId      0\n",
            "Survived         0\n",
            "Pclass           0\n",
            "Name             0\n",
            "Sex              0\n",
            "Age             86\n",
            "SibSp            0\n",
            "Parch            0\n",
            "Ticket           0\n",
            "Fare             1\n",
            "Cabin          327\n",
            "Embarked         0\n",
            "dtype: int64\n"
          ]
        }
      ]
    },
    {
      "cell_type": "code",
      "source": [
        "# Replace missing values\n",
        "ds['Age'].fillna(ds['Age'].mean(), inplace=True)\n",
        "print(ds.isnull().sum())\n",
        "\n",
        "\n",
        "# Drop the column not important for ML\n",
        "ds = ds.drop(columns= ['Cabin'], axis=1)\n",
        "ds = ds.drop(columns= ['Fare'], axis=1)\n",
        "\n",
        "# input variables - sex, age, pclass, embarked\n",
        "# output variable - survived\n",
        "# Data transformation Categorical to Numeric - Sex and Embarked\n",
        "print(ds.dtypes)\n",
        "ds.replace({'Sex':{'male':0,'female':1}, \\\n",
        "                      'Embarked':{'S':0,'C':1,'Q':2}}, inplace=True)\n",
        "print(ds.dtypes)\n"
      ],
      "metadata": {
        "id": "tDw7gMAY0Ld3",
        "colab": {
          "base_uri": "https://localhost:8080/"
        },
        "outputId": "78ac8138-b641-416a-e606-e2e3128b28f9"
      },
      "execution_count": 23,
      "outputs": [
        {
          "output_type": "stream",
          "name": "stdout",
          "text": [
            "PassengerId    0\n",
            "Survived       0\n",
            "Pclass         0\n",
            "Name           0\n",
            "Sex            0\n",
            "Age            0\n",
            "SibSp          0\n",
            "Parch          0\n",
            "Ticket         0\n",
            "Embarked       0\n",
            "dtype: int64\n",
            "PassengerId      int64\n",
            "Survived         int64\n",
            "Pclass           int64\n",
            "Name            object\n",
            "Sex              int64\n",
            "Age            float64\n",
            "SibSp            int64\n",
            "Parch            int64\n",
            "Ticket          object\n",
            "Embarked         int64\n",
            "dtype: object\n",
            "PassengerId      int64\n",
            "Survived         int64\n",
            "Pclass           int64\n",
            "Name            object\n",
            "Sex              int64\n",
            "Age            float64\n",
            "SibSp            int64\n",
            "Parch            int64\n",
            "Ticket          object\n",
            "Embarked         int64\n",
            "dtype: object\n"
          ]
        }
      ]
    },
    {
      "cell_type": "code",
      "source": [
        "# actual ML starts\n",
        "# Split dataset into input and output variables\n",
        "X = ds.drop(columns = ['PassengerId','Name','Ticket','Survived'],axis=1)  # input\n",
        "y = ds['Survived'] # output\n",
        "\n",
        "print(X.head()) # 418 - six input variables\n",
        "print(y.head()) # 418 - only survived variables\n",
        "\n",
        "X_train, X_test, Y_train, Y_test = train_test_split(X,y, test_size=0.2, random_state=1)\n",
        "\n",
        "# X_train (6 var), Y_train(1) - 335\n",
        "# X_test (6 var), Y_test(1) - 83\n",
        "\n",
        "model = DecisionTreeClassifier()\n",
        "model.fit(X_train, Y_train)\n",
        "\n",
        "tr_prediction = model.predict(X_train)\n",
        "tr_accuracy = accuracy_score(Y_train, tr_prediction)\n",
        "print('Accuracy score of training data : ', tr_accuracy*100)\n",
        "\n",
        "ts_prediction = model.predict(X_test)\n",
        "ts_accuracy = accuracy_score(Y_test, ts_prediction)\n",
        "print('Accuracy score of testing data : ', ts_accuracy*100)\n",
        "\n",
        "print(X.info())\n",
        "\n",
        "# manual testing prediction\n",
        "# Testing with input data\n",
        "input_data = ( 3,1,22.0,1,1,0) # tuple\n",
        "array = np.asarray(input_data)\n",
        "print(array)\n",
        "\n",
        "# convert it to array of array or 2 D array\n",
        "reshaped = array.reshape(1,-1) # row, column\n",
        "print(reshaped)\n",
        "\n",
        "prediction = model.predict(reshaped)\n",
        "print(prediction)\n",
        "\n",
        "if prediction[0] == 0:\n",
        "    print('Dead')\n",
        "else:\n",
        "    print('Survived')    \n",
        "\n"
      ],
      "metadata": {
        "id": "ZAg46UUi06SM",
        "colab": {
          "base_uri": "https://localhost:8080/"
        },
        "outputId": "9861cd53-ec48-4774-cd44-ab29be017425"
      },
      "execution_count": 24,
      "outputs": [
        {
          "output_type": "stream",
          "name": "stdout",
          "text": [
            "   Pclass  Sex   Age  SibSp  Parch  Embarked\n",
            "0       3    0  34.5      0      0         2\n",
            "1       3    1  47.0      1      0         0\n",
            "2       2    0  62.0      0      0         2\n",
            "3       3    0  27.0      0      0         0\n",
            "4       3    1  22.0      1      1         0\n",
            "0    0\n",
            "1    1\n",
            "2    0\n",
            "3    0\n",
            "4    1\n",
            "Name: Survived, dtype: int64\n",
            "Accuracy score of training data :  100.0\n",
            "Accuracy score of testing data :  100.0\n",
            "<class 'pandas.core.frame.DataFrame'>\n",
            "RangeIndex: 418 entries, 0 to 417\n",
            "Data columns (total 6 columns):\n",
            " #   Column    Non-Null Count  Dtype  \n",
            "---  ------    --------------  -----  \n",
            " 0   Pclass    418 non-null    int64  \n",
            " 1   Sex       418 non-null    int64  \n",
            " 2   Age       418 non-null    float64\n",
            " 3   SibSp     418 non-null    int64  \n",
            " 4   Parch     418 non-null    int64  \n",
            " 5   Embarked  418 non-null    int64  \n",
            "dtypes: float64(1), int64(5)\n",
            "memory usage: 19.7 KB\n",
            "None\n",
            "[ 3.  1. 22.  1.  1.  0.]\n",
            "[[ 3.  1. 22.  1.  1.  0.]]\n",
            "[1]\n",
            "Survived\n"
          ]
        },
        {
          "output_type": "stream",
          "name": "stderr",
          "text": [
            "/usr/local/lib/python3.7/dist-packages/sklearn/base.py:451: UserWarning: X does not have valid feature names, but DecisionTreeClassifier was fitted with feature names\n",
            "  \"X does not have valid feature names, but\"\n"
          ]
        }
      ]
    }
  ]
}